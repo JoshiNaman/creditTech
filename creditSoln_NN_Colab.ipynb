{
  "nbformat": 4,
  "nbformat_minor": 0,
  "metadata": {
    "colab": {
      "provenance": []
    },
    "kernelspec": {
      "name": "python3",
      "display_name": "Python 3"
    },
    "language_info": {
      "name": "python"
    }
  },
  "cells": [
    {
      "cell_type": "code",
      "execution_count": null,
      "metadata": {
        "id": "aX8sliiFXMiK"
      },
      "outputs": [],
      "source": [
        "import pandas as pd\n",
        "from sklearn.model_selection import train_test_split\n",
        "from sklearn.preprocessing import OneHotEncoder, StandardScaler\n",
        "from sklearn.linear_model import LogisticRegression\n",
        "from sklearn.metrics import roc_auc_score\n"
      ]
    },
    {
      "cell_type": "markdown",
      "source": [
        "importing data\n"
      ],
      "metadata": {
        "id": "11mS2eKsHeJv"
      }
    },
    {
      "cell_type": "code",
      "source": [
        "df_xtrain = pd.read_csv(\"/content/file1.csv\")\n",
        "df_ytrain = pd.read_csv(\"/content/file2.csv\")"
      ],
      "metadata": {
        "id": "Ha2tmryVILQZ"
      },
      "execution_count": null,
      "outputs": []
    },
    {
      "cell_type": "code",
      "source": [
        "from sklearn.model_selection import train_test_split\n",
        "\n",
        "X_train, X_test, y_train, y_test = train_test_split(df_xtrain.drop(['Unique_ID'], axis = 1), df_ytrain['Dependent_Variable'] , test_size=0.25, random_state=0)"
      ],
      "metadata": {
        "id": "nembkEl0IKc6"
      },
      "execution_count": null,
      "outputs": []
    },
    {
      "cell_type": "markdown",
      "source": [
        "NN Network solution"
      ],
      "metadata": {
        "id": "jUJdHgA8HD6D"
      }
    },
    {
      "cell_type": "code",
      "source": [
        "# Neural Networks\n",
        "from keras.models import Sequential\n",
        "from keras.layers import Dense\n",
        "\n",
        "model = Sequential()\n",
        "model.add(Dense(128, activation='relu', input_dim=15))\n",
        "model.add(Dense(1, activation='sigmoid'))\n",
        "model.compile(loss='binary_crossentropy', optimizer='adam', metrics=['accuracy'])\n",
        "model.summary()"
      ],
      "metadata": {
        "colab": {
          "base_uri": "https://localhost:8080/"
        },
        "id": "4fkS5LVNHC81",
        "outputId": "4e4b6294-e7f6-4af0-f920-2ad010970c54"
      },
      "execution_count": null,
      "outputs": [
        {
          "output_type": "stream",
          "name": "stdout",
          "text": [
            "Model: \"sequential\"\n",
            "_________________________________________________________________\n",
            " Layer (type)                Output Shape              Param #   \n",
            "=================================================================\n",
            " dense (Dense)               (None, 128)               2048      \n",
            "                                                                 \n",
            " dense_1 (Dense)             (None, 1)                 129       \n",
            "                                                                 \n",
            "=================================================================\n",
            "Total params: 2,177\n",
            "Trainable params: 2,177\n",
            "Non-trainable params: 0\n",
            "_________________________________________________________________\n"
          ]
        }
      ]
    },
    {
      "cell_type": "code",
      "source": [
        "hist = model.fit(X_train, y_train, validation_data=(X_test, y_test), epochs=10, batch_size=100)"
      ],
      "metadata": {
        "colab": {
          "base_uri": "https://localhost:8080/"
        },
        "id": "lDXdOyF0HNuE",
        "outputId": "a8735cdb-dcd5-4927-fb0c-4f6220dcfab9"
      },
      "execution_count": null,
      "outputs": [
        {
          "output_type": "stream",
          "name": "stdout",
          "text": [
            "Epoch 1/10\n",
            "248/248 [==============================] - 3s 8ms/step - loss: 11.0341 - accuracy: 0.5929 - val_loss: 7.7712 - val_accuracy: 0.6820\n",
            "Epoch 2/10\n",
            "248/248 [==============================] - 1s 5ms/step - loss: 8.6967 - accuracy: 0.5979 - val_loss: 10.3662 - val_accuracy: 0.4625\n",
            "Epoch 3/10\n",
            "248/248 [==============================] - 1s 2ms/step - loss: 6.9906 - accuracy: 0.6044 - val_loss: 5.2547 - val_accuracy: 0.6702\n",
            "Epoch 4/10\n",
            "248/248 [==============================] - 1s 2ms/step - loss: 10.2708 - accuracy: 0.6041 - val_loss: 7.1569 - val_accuracy: 0.3840\n",
            "Epoch 5/10\n",
            "248/248 [==============================] - 1s 2ms/step - loss: 8.0592 - accuracy: 0.6034 - val_loss: 12.8009 - val_accuracy: 0.6828\n",
            "Epoch 6/10\n",
            "248/248 [==============================] - 1s 4ms/step - loss: 5.9560 - accuracy: 0.6175 - val_loss: 11.8021 - val_accuracy: 0.6835\n",
            "Epoch 7/10\n",
            "248/248 [==============================] - 1s 4ms/step - loss: 6.9240 - accuracy: 0.6119 - val_loss: 9.1898 - val_accuracy: 0.6846\n",
            "Epoch 8/10\n",
            "248/248 [==============================] - 1s 4ms/step - loss: 6.2201 - accuracy: 0.6095 - val_loss: 5.8085 - val_accuracy: 0.6789\n",
            "Epoch 9/10\n",
            "248/248 [==============================] - 1s 5ms/step - loss: 7.3723 - accuracy: 0.6114 - val_loss: 3.6043 - val_accuracy: 0.6772\n",
            "Epoch 10/10\n",
            "248/248 [==============================] - 1s 4ms/step - loss: 8.5643 - accuracy: 0.6094 - val_loss: 3.4606 - val_accuracy: 0.5227\n"
          ]
        }
      ]
    },
    {
      "cell_type": "code",
      "source": [],
      "metadata": {
        "id": "D2MIuDmzHcTd"
      },
      "execution_count": null,
      "outputs": []
    }
  ]
}